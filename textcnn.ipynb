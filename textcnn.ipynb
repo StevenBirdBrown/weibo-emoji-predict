{
 "cells": [
  {
   "cell_type": "code",
   "execution_count": 1,
   "metadata": {},
   "outputs": [],
   "source": [
    "import pandas as pd\n",
    "import numpy as np\n",
    "import mxnet as mx\n",
    "from mxnet import nd, autograd, gluon, init\n",
    "from mxnet.gluon import nn, rnn\n",
    "import gluonnlp as nlp\n",
    "import pkuseg\n",
    "import multiprocessing as mp\n",
    "import time\n",
    "from d2l import try_gpu\n",
    "import itertools\n",
    "from sklearn.metrics import accuracy_score, f1_score\n",
    "import d2l\n",
    "import re\n",
    "# fixed random number seed\n",
    "np.random.seed(9102)\n",
    "mx.random.seed(9102)"
   ]
  },
  {
   "cell_type": "code",
   "execution_count": 2,
   "metadata": {},
   "outputs": [],
   "source": [
    "DATA_FOLDER = 'data/'\n",
    "TRAIN_DATA = 'train.csv'\n",
    "WORD_EMBED = 'sgns.weibo.bigram-char'\n",
    "LABEL_FILE = 'train.label'\n",
    "N_ROWS=1000\n",
    "ctx = try_gpu()\n",
    "seg = pkuseg.pkuseg(model_name='web')"
   ]
  },
  {
   "cell_type": "code",
   "execution_count": 3,
   "metadata": {},
   "outputs": [],
   "source": [
    "train_df = pd.read_csv(DATA_FOLDER+TRAIN_DATA, sep='|')"
   ]
  },
  {
   "cell_type": "code",
   "execution_count": 4,
   "metadata": {},
   "outputs": [
    {
     "data": {
      "text/plain": [
       "(776847, 86317)"
      ]
     },
     "execution_count": 4,
     "metadata": {},
     "output_type": "execute_result"
    }
   ],
   "source": [
    "dataset =[ [row[0], row[1]] for _, row in train_df.iterrows()]\n",
    "train_dataset, valid_dataset = nlp.data.train_valid_split(dataset, .1)\n",
    "len(train_dataset), len(valid_dataset)"
   ]
  },
  {
   "cell_type": "code",
   "execution_count": 5,
   "metadata": {
    "scrolled": true
   },
   "outputs": [
    {
     "name": "stdout",
     "output_type": "stream",
     "text": [
      "Done! Tokenizing Time=-28725.97s, #Sentences=776847\n",
      "Done! Tokenizing Time=9.68s, #Sentences=86317\n"
     ]
    }
   ],
   "source": [
    "def tokenizer(x):\n",
    "    tweet, label = x\n",
    "    if type(tweet) != str:\n",
    "        tweet = str(tweet)\n",
    "    word_list = seg.cut(re.sub('\\W+', ' ', tweet))\n",
    "    if len(word_list)==0:\n",
    "        word_list=['<unk>']\n",
    "    return word_list, label\n",
    "\n",
    "def get_length(x):\n",
    "    return float(len(x[0]))\n",
    "\n",
    "def to_word_list(dataset):\n",
    "    start = time.time()\n",
    "    with mp.Pool() as pool:\n",
    "        # Each sample is processed in an asynchronous manner.\n",
    "        dataset = gluon.data.ArrayDataset(pool.map(tokenizer, dataset))\n",
    "        lengths = gluon.data.ArrayDataset(pool.map(get_length, dataset))\n",
    "    end = time.time()\n",
    "\n",
    "    print('Done! Tokenizing Time={:.2f}s, #Sentences={}'.format(end - start, len(dataset)))\n",
    "    return dataset, lengths\n",
    "\n",
    "train_word_list, train_word_lengths = to_word_list(train_dataset)\n",
    "valid_word_list, valid_word_lengths = to_word_list(valid_dataset)"
   ]
  },
  {
   "cell_type": "code",
   "execution_count": 6,
   "metadata": {},
   "outputs": [
    {
     "name": "stderr",
     "output_type": "stream",
     "text": [
      "/home/steven/miniconda3/envs/dl/lib/python3.7/site-packages/gluonnlp/embedding/token_embedding.py:296: UserWarning: line 0 in data/sgns.weibo.bigram-char: skipped likely header line.\n",
      "  .format(line_num, pretrained_file_path))\n"
     ]
    },
    {
     "name": "stdout",
     "output_type": "stream",
     "text": [
      "Vocab(size=200004, unk=\"<unk>\", reserved=\"['<pad>', '<bos>', '<eos>']\")\n"
     ]
    }
   ],
   "source": [
    "train_seqs = [sample[0] for sample in train_word_list]\n",
    "counter = nlp.data.count_tokens(list(itertools.chain.from_iterable(train_seqs)))\n",
    "\n",
    "vocab = nlp.Vocab(counter, max_size=200000)\n",
    "\n",
    "# load customed pre-trained embedding\n",
    "embedding_weights = nlp.embedding.TokenEmbedding.from_file(file_path=DATA_FOLDER+WORD_EMBED)\n",
    "vocab.set_embedding(embedding_weights)\n",
    "print(vocab)"
   ]
  },
  {
   "cell_type": "code",
   "execution_count": 7,
   "metadata": {},
   "outputs": [],
   "source": [
    "def token_to_idx(x):\n",
    "    return vocab[x[0]], x[1]\n",
    "\n",
    "# A token index or a list of token indices is returned according to the vocabulary.\n",
    "with mp.Pool() as pool:\n",
    "    train_dataset = pool.map(token_to_idx, train_word_list)\n",
    "    valid_dataset = pool.map(token_to_idx, valid_word_list)"
   ]
  },
  {
   "cell_type": "code",
   "execution_count": 8,
   "metadata": {},
   "outputs": [
    {
     "name": "stdout",
     "output_type": "stream",
     "text": [
      "FixedBucketSampler:\n",
      "  sample_num=776847, batch_num=238\n",
      "  key=[14, 27, 40, 53, 66, 79, 92, 105, 118, 131]\n",
      "  cnt=[565720, 126529, 43158, 20664, 12429, 6854, 1455, 33, 4, 1]\n",
      "  batch_size=[4790, 2484, 1676, 1265, 1024, 1024, 1024, 1024, 1024, 1024]\n"
     ]
    }
   ],
   "source": [
    "batch_size = 1024\n",
    "bucket_num = 10\n",
    "bucket_ratio = 0.5\n",
    "\n",
    "\n",
    "def get_dataloader():\n",
    "    # Construct the DataLoader Pad data, stack label and lengths\n",
    "    batchify_fn = nlp.data.batchify.Tuple(nlp.data.batchify.Pad(axis=0), \\\n",
    "                                          nlp.data.batchify.Stack())\n",
    "\n",
    "    # in this example, we use a FixedBucketSampler,\n",
    "    # which assigns each data sample to a fixed bucket based on its length.\n",
    "    batch_sampler = nlp.data.sampler.FixedBucketSampler(\n",
    "        train_word_lengths,\n",
    "        batch_size=batch_size,\n",
    "        num_buckets=bucket_num,\n",
    "        ratio=bucket_ratio,\n",
    "        shuffle=True)\n",
    "    print(batch_sampler.stats())\n",
    "\n",
    "    # train_dataloader\n",
    "    train_dataloader = gluon.data.DataLoader(\n",
    "        dataset=train_dataset,\n",
    "        batch_sampler=batch_sampler,\n",
    "        batchify_fn=batchify_fn)\n",
    "    # valid_dataloader\n",
    "    valid_dataloader = gluon.data.DataLoader(\n",
    "        dataset=valid_dataset,\n",
    "        batch_size=batch_size,\n",
    "        shuffle=False,\n",
    "        batchify_fn=batchify_fn)\n",
    "    return train_dataloader, valid_dataloader\n",
    "\n",
    "train_dataloader, valid_dataloader = get_dataloader()"
   ]
  },
  {
   "cell_type": "code",
   "execution_count": 9,
   "metadata": {},
   "outputs": [
    {
     "name": "stdout",
     "output_type": "stream",
     "text": [
      "\n",
      "[[1.71000e+02 2.50000e+01 1.39600e+03 ... 0.00000e+00 0.00000e+00\n",
      "  0.00000e+00]\n",
      " [5.32400e+03 3.78450e+04 3.89800e+03 ... 0.00000e+00 0.00000e+00\n",
      "  0.00000e+00]\n",
      " [1.78900e+03 4.60000e+01 8.36000e+02 ... 0.00000e+00 0.00000e+00\n",
      "  0.00000e+00]\n",
      " ...\n",
      " [5.11600e+03 1.71100e+03 3.90000e+01 ... 6.91000e+02 1.12000e+02\n",
      "  0.00000e+00]\n",
      " [1.98129e+05 4.84700e+03 4.28190e+04 ... 0.00000e+00 0.00000e+00\n",
      "  0.00000e+00]\n",
      " [1.30000e+01 7.47000e+03 1.37000e+02 ... 0.00000e+00 0.00000e+00\n",
      "  0.00000e+00]]\n",
      "<NDArray 1676x40 @cpu_shared(0)> \n",
      "[40 17  3 ... 12 12 14]\n",
      "<NDArray 1676 @cpu_shared(0)>\n"
     ]
    }
   ],
   "source": [
    "for tweet, label in train_dataloader:\n",
    "    print(tweet, label)\n",
    "    break"
   ]
  },
  {
   "cell_type": "markdown",
   "metadata": {},
   "source": [
    "## Model contruction\n",
    "Self attention layer, weighted cross entropy, and whole model"
   ]
  },
  {
   "cell_type": "code",
   "execution_count": 10,
   "metadata": {},
   "outputs": [],
   "source": [
    "class TextCNN(nn.Block):\n",
    "    def __init__(self, vocab_len, embed_size, kernel_sizes, num_channels, \\\n",
    "                 dropout, nclass, **kwargs):\n",
    "        super(TextCNN, self).__init__(**kwargs)\n",
    "        self.embedding = nn.Embedding(vocab_len, embed_size)\n",
    "        \n",
    "        self.constant_embedding = nn.Embedding(vocab_len, embed_size)\n",
    "        self.dropout = nn.Dropout(dropout)\n",
    "        self.decoder = nn.Dense(nclass)\n",
    "        self.pool = nn.GlobalMaxPool1D()\n",
    "        self.convs = nn.Sequential()  \n",
    "        for c, k in zip(num_channels, kernel_sizes):\n",
    "            self.convs.add(nn.Conv1D(c, k, activation='relu'))\n",
    "    \n",
    "    def forward(self, inputs):\n",
    "        \n",
    "        embeddings = nd.concat(\n",
    "            self.embedding(inputs), self.constant_embedding(inputs), dim=2)\n",
    "        embeddings = embeddings.transpose((0, 2, 1))\n",
    "        \n",
    "        encoding = nd.concat(*[nd.flatten(\n",
    "            self.pool(conv(embeddings))) for conv in self.convs], dim=1)\n",
    "        outputs = self.decoder(self.dropout(encoding))\n",
    "        return outputs"
   ]
  },
  {
   "cell_type": "code",
   "execution_count": 11,
   "metadata": {},
   "outputs": [
    {
     "name": "stdout",
     "output_type": "stream",
     "text": [
      "TextCNN(\n",
      "  (embedding): Embedding(200004 -> 300, float32)\n",
      "  (constant_embedding): Embedding(200004 -> 300, float32)\n",
      "  (dropout): Dropout(p = 0.2, axes=())\n",
      "  (decoder): Dense(None -> 72, linear)\n",
      "  (pool): GlobalMaxPool1D(size=(1,), stride=(1,), padding=(0,), ceil_mode=True)\n",
      "  (convs): Sequential(\n",
      "    (0): Conv1D(None -> 100, kernel_size=(2,), stride=(1,), Activation(relu))\n",
      "    (1): Conv1D(None -> 100, kernel_size=(3,), stride=(1,), Activation(relu))\n",
      "    (2): Conv1D(None -> 100, kernel_size=(4,), stride=(1,), Activation(relu))\n",
      "    (3): Conv1D(None -> 100, kernel_size=(5,), stride=(1,), Activation(relu))\n",
      "  )\n",
      ")\n"
     ]
    }
   ],
   "source": [
    "vocab_len = len(vocab)\n",
    "emsize = 300   # word embedding size\n",
    "nhidden = 400    # lstm hidden_dim\n",
    "nlayers = 4     # lstm layers\n",
    "natt_unit = 400     # the hidden_units of attention layer\n",
    "natt_hops = 20    # the channels of attention\n",
    "nfc = 256  # last dense layer size\n",
    "nclass = 72 # we have 72 emoji in total\n",
    "\n",
    "drop_prob = 0.2\n",
    "pool_way = 'flatten'    # # The way to handle M\n",
    "prune_p = None\n",
    "prune_q = None\n",
    "\n",
    "ctx = try_gpu()\n",
    "\n",
    "kernel_sizes, nums_channels = [2, 3, 4, 5], [100, 100, 100, 100]\n",
    "model = TextCNN(vocab_len, emsize, kernel_sizes, nums_channels, drop_prob, nclass)\n",
    "model.initialize(init.Xavier(), ctx=ctx)\n",
    "\n",
    "print(model)\n",
    "model.embedding.weight.set_data(vocab.embedding.idx_to_vec)\n",
    "model.constant_embedding.weight.set_data(vocab.embedding.idx_to_vec)\n",
    "model.constant_embedding.collect_params().setattr('grad_req', 'null')"
   ]
  },
  {
   "cell_type": "code",
   "execution_count": 12,
   "metadata": {
    "scrolled": true
   },
   "outputs": [
    {
     "data": {
      "text/plain": [
       "\n",
       "[[-0.34600145  0.04017189  0.1369038  -0.7636087  -0.3934391   1.1943265\n",
       "  -0.32672587  1.7432895   0.03964555  0.46450374 -1.0460553   0.16721234\n",
       "   0.5969963  -0.75534594 -1.5392365  -0.65512806  1.1295297  -0.49703023\n",
       "   1.754624   -1.0651437  -0.21764863 -0.8766225   0.60445654 -0.67168844\n",
       "  -1.1860421  -0.72298837 -0.9003191  -1.3292121  -1.2939929  -0.173226\n",
       "  -0.13076256  1.5140643   0.16108891  1.1098144  -0.00212728  1.5642483\n",
       "  -0.65339553  0.7023618   0.42604226 -1.3614258   0.3992056   1.0475352\n",
       "  -0.13890669  0.6355842   0.9506167  -0.8263583  -0.63210803 -0.88465756\n",
       "   0.04642108  0.57851565  0.6982124  -0.46893287  1.6976713  -0.8701376\n",
       "  -0.9612554   0.35169083  2.0739958  -0.27529195  1.3988712  -0.80950534\n",
       "  -0.45686567  0.2837877   0.3057649  -0.69839436 -1.4799446  -0.5075748\n",
       "  -1.0260262   0.20910491  0.48553443  0.78714824  1.9416616   0.32587254]]\n",
       "<NDArray 1x72 @gpu(0)>"
      ]
     },
     "execution_count": 12,
     "metadata": {},
     "output_type": "execute_result"
    }
   ],
   "source": [
    "tmp = nd.array([10, 20, 30, 40, 50, 60], ctx=ctx).reshape(1, -1)\n",
    "model(tmp)"
   ]
  },
  {
   "cell_type": "code",
   "execution_count": 14,
   "metadata": {
    "scrolled": true
   },
   "outputs": [
    {
     "name": "stdout",
     "output_type": "stream",
     "text": [
      "training on gpu(0)\n",
      "epoch 1, loss 3.3362, train acc 0.187, test acc 0.173, time 94.4 sec\n",
      "epoch 2, loss 3.2507, train acc 0.205, test acc 0.173, time 95.2 sec\n",
      "epoch 3, loss 3.1382, train acc 0.229, test acc 0.172, time 94.9 sec\n"
     ]
    }
   ],
   "source": [
    "lr, wd, num_epochs = .001, .95, 3\n",
    "# model.load_parameters(\"model/textcnn1560329753\")\n",
    "trainer = gluon.Trainer(model.collect_params(), 'adam', {'learning_rate': lr})\n",
    "loss = gluon.loss.SoftmaxCrossEntropyLoss()\n",
    "d2l.train(train_dataloader, valid_dataloader, model, loss, trainer, ctx, num_epochs)\n",
    "token = str(round(time.time()))\n",
    "model.save_parameters(\"model/textcnn\"+token+'.params')"
   ]
  },
  {
   "cell_type": "code",
   "execution_count": 18,
   "metadata": {},
   "outputs": [],
   "source": [
    "kernel_sizes, nums_channels = [2, 3, 4, 5], [100, 100, 100, 100]\n",
    "model = TextCNN(vocab_len, emsize, kernel_sizes, nums_channels, 0, nclass)\n",
    "model.load_parameters('model/textcnn1560502613.params', ctx=ctx)"
   ]
  },
  {
   "cell_type": "code",
   "execution_count": 19,
   "metadata": {
    "scrolled": true
   },
   "outputs": [
    {
     "data": {
      "text/plain": [
       "200000"
      ]
     },
     "execution_count": 19,
     "metadata": {},
     "output_type": "execute_result"
    }
   ],
   "source": [
    "TEST_DATA = 'test.csv'\n",
    "predictions = []\n",
    "test_df = pd.read_csv(DATA_FOLDER+TEST_DATA, header=None, sep='\\t')\n",
    "len(test_df)"
   ]
  },
  {
   "cell_type": "code",
   "execution_count": 20,
   "metadata": {
    "scrolled": true
   },
   "outputs": [
    {
     "name": "stdout",
     "output_type": "stream",
     "text": [
      "current pred len 2000, time 4.67s\n",
      "current pred len 4000, time 4.63s\n",
      "current pred len 6000, time 4.68s\n",
      "current pred len 8000, time 4.55s\n",
      "current pred len 10000, time 4.66s\n",
      "current pred len 12000, time 4.68s\n",
      "current pred len 14000, time 4.63s\n",
      "current pred len 16000, time 4.63s\n",
      "current pred len 18000, time 4.65s\n",
      "current pred len 20000, time 4.58s\n",
      "current pred len 22000, time 4.67s\n",
      "current pred len 24000, time 4.66s\n",
      "current pred len 26000, time 4.57s\n",
      "current pred len 28000, time 4.67s\n",
      "current pred len 30000, time 4.67s\n",
      "current pred len 32000, time 4.59s\n",
      "current pred len 34000, time 4.67s\n",
      "current pred len 36000, time 4.64s\n",
      "current pred len 38000, time 4.63s\n",
      "current pred len 40000, time 4.62s\n",
      "current pred len 42000, time 4.66s\n",
      "current pred len 44000, time 4.63s\n",
      "current pred len 46000, time 4.65s\n",
      "current pred len 48000, time 4.62s\n",
      "current pred len 50000, time 4.65s\n",
      "current pred len 52000, time 4.63s\n",
      "current pred len 54000, time 4.83s\n",
      "current pred len 56000, time 4.71s\n",
      "current pred len 58000, time 4.64s\n",
      "current pred len 60000, time 4.64s\n",
      "current pred len 62000, time 4.60s\n",
      "current pred len 64000, time 4.62s\n",
      "current pred len 66000, time 4.77s\n",
      "current pred len 68000, time 4.74s\n",
      "current pred len 70000, time 4.72s\n",
      "current pred len 72000, time 4.71s\n",
      "current pred len 74000, time 4.68s\n",
      "current pred len 76000, time 4.73s\n",
      "current pred len 78000, time 4.70s\n",
      "current pred len 80000, time 4.62s\n",
      "current pred len 82000, time 4.67s\n",
      "current pred len 84000, time 4.65s\n",
      "current pred len 86000, time 4.67s\n",
      "current pred len 88000, time 4.67s\n",
      "current pred len 90000, time 4.67s\n",
      "current pred len 92000, time 4.70s\n",
      "current pred len 94000, time 4.70s\n",
      "current pred len 96000, time 4.71s\n",
      "current pred len 98000, time 4.69s\n",
      "current pred len 100000, time 4.55s\n",
      "current pred len 102000, time 4.63s\n",
      "current pred len 104000, time 4.70s\n",
      "current pred len 106000, time 4.69s\n",
      "current pred len 108000, time 4.74s\n",
      "current pred len 110000, time 4.74s\n",
      "current pred len 112000, time 4.61s\n",
      "current pred len 114000, time 4.48s\n",
      "current pred len 116000, time 4.47s\n",
      "current pred len 118000, time 4.45s\n",
      "current pred len 120000, time 4.47s\n",
      "current pred len 122000, time 4.55s\n",
      "current pred len 124000, time 4.52s\n",
      "current pred len 126000, time 4.42s\n",
      "current pred len 128000, time 4.41s\n",
      "current pred len 130000, time 4.63s\n",
      "current pred len 132000, time 4.61s\n",
      "current pred len 134000, time 4.51s\n",
      "current pred len 136000, time 4.94s\n",
      "current pred len 138000, time 4.51s\n",
      "current pred len 140000, time 4.48s\n",
      "current pred len 142000, time 4.47s\n",
      "current pred len 144000, time 4.53s\n",
      "current pred len 146000, time 4.46s\n",
      "current pred len 148000, time 4.76s\n",
      "current pred len 150000, time 5.46s\n",
      "current pred len 152000, time 5.36s\n",
      "current pred len 154000, time 4.82s\n",
      "current pred len 156000, time 4.47s\n",
      "current pred len 158000, time 4.67s\n",
      "current pred len 160000, time 4.95s\n",
      "current pred len 162000, time 4.84s\n",
      "current pred len 164000, time 4.85s\n",
      "current pred len 166000, time 4.88s\n",
      "current pred len 168000, time 4.77s\n",
      "current pred len 170000, time 4.79s\n",
      "current pred len 172000, time 4.77s\n",
      "current pred len 174000, time 4.75s\n",
      "current pred len 176000, time 4.43s\n",
      "current pred len 178000, time 5.05s\n",
      "current pred len 180000, time 4.87s\n",
      "current pred len 182000, time 4.62s\n",
      "current pred len 184000, time 4.74s\n",
      "current pred len 186000, time 4.69s\n",
      "current pred len 188000, time 4.66s\n",
      "current pred len 190000, time 4.63s\n",
      "current pred len 192000, time 4.54s\n",
      "current pred len 194000, time 4.91s\n",
      "current pred len 196000, time 4.97s\n",
      "current pred len 198000, time 4.87s\n",
      "current pred len 200000, time 4.65s\n"
     ]
    }
   ],
   "source": [
    "start = time.time()\n",
    "for _, tweet in test_df.iterrows():\n",
    "    token = vocab[seg.cut(tweet[1])]\n",
    "    if len(token)<5:\n",
    "        token += [0.]*(5-len(token))\n",
    "    inp = nd.array(token, ctx=ctx).reshape(1,-1)\n",
    "    pred = model(inp)\n",
    "    pred = nd.argmax(pred, axis=1).asscalar()\n",
    "    predictions.append(int(pred))\n",
    "    if len(predictions)%2000==0:\n",
    "        ckpt = time.time()\n",
    "        print('current pred len %d, time %.2fs' % (len(predictions), ckpt-start))\n",
    "        start = ckpt\n",
    "submit = pd.DataFrame({'Expected': predictions})\n",
    "submit.to_csv('submission.csv', sep=',', index_label='ID')"
   ]
  }
 ],
 "metadata": {
  "kernelspec": {
   "display_name": "Python 3",
   "language": "python",
   "name": "python3"
  },
  "language_info": {
   "codemirror_mode": {
    "name": "ipython",
    "version": 3
   },
   "file_extension": ".py",
   "mimetype": "text/x-python",
   "name": "python",
   "nbconvert_exporter": "python",
   "pygments_lexer": "ipython3",
   "version": "3.7.3"
  }
 },
 "nbformat": 4,
 "nbformat_minor": 2
}
