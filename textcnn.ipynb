{
 "cells": [
  {
   "cell_type": "code",
   "execution_count": 1,
   "metadata": {},
   "outputs": [],
   "source": [
    "import pandas as pd\n",
    "import numpy as np\n",
    "import mxnet as mx\n",
    "from mxnet import nd, autograd, gluon, init\n",
    "from mxnet.gluon import nn, rnn\n",
    "import gluonnlp as nlp\n",
    "import pkuseg\n",
    "import multiprocessing as mp\n",
    "import time\n",
    "from d2l import try_gpu\n",
    "import itertools\n",
    "from sklearn.metrics import accuracy_score, f1_score\n",
    "import d2l\n",
    "# fixed random number seed\n",
    "np.random.seed(9102)\n",
    "mx.random.seed(9102)"
   ]
  },
  {
   "cell_type": "code",
   "execution_count": 2,
   "metadata": {},
   "outputs": [],
   "source": [
    "DATA_FOLDER = 'data/'\n",
    "TRAIN_DATA = 'train.csv'\n",
    "WORD_EMBED = 'sgns.weibo.bigram-char'\n",
    "LABEL_FILE = 'train.label'\n",
    "N_ROWS=10000\n",
    "ctx = try_gpu()\n",
    "seg = pkuseg.pkuseg(model_name='web')"
   ]
  },
  {
   "cell_type": "code",
   "execution_count": 3,
   "metadata": {},
   "outputs": [],
   "source": [
    "train_df = pd.read_csv(DATA_FOLDER+TRAIN_DATA, sep='|')"
   ]
  },
  {
   "cell_type": "code",
   "execution_count": 4,
   "metadata": {},
   "outputs": [
    {
     "data": {
      "text/plain": [
       "(776847, 86317)"
      ]
     },
     "execution_count": 4,
     "metadata": {},
     "output_type": "execute_result"
    }
   ],
   "source": [
    "dataset =[ [row[0], row[1]] for _, row in train_df.iterrows()]\n",
    "train_dataset, valid_dataset = nlp.data.train_valid_split(dataset, .1)\n",
    "len(train_dataset), len(valid_dataset)"
   ]
  },
  {
   "cell_type": "code",
   "execution_count": 5,
   "metadata": {
    "scrolled": true
   },
   "outputs": [
    {
     "name": "stdout",
     "output_type": "stream",
     "text": [
      "Done! Tokenizing Time=83.77s, #Sentences=776847\n",
      "Done! Tokenizing Time=10.23s, #Sentences=86317\n"
     ]
    }
   ],
   "source": [
    "def tokenizer(x):\n",
    "    tweet, label = x\n",
    "    if type(tweet) != str:\n",
    "        tweet = str(tweet)\n",
    "    word_list = seg.cut(tweet)\n",
    "    return word_list, label\n",
    "\n",
    "def get_length(x):\n",
    "    return float(len(x[0]))\n",
    "\n",
    "def to_word_list(dataset):\n",
    "    start = time.time()\n",
    "    with mp.Pool() as pool:\n",
    "        # Each sample is processed in an asynchronous manner.\n",
    "        dataset = gluon.data.ArrayDataset(pool.map(tokenizer, dataset))\n",
    "        lengths = gluon.data.ArrayDataset(pool.map(get_length, dataset))\n",
    "    end = time.time()\n",
    "\n",
    "    print('Done! Tokenizing Time={:.2f}s, #Sentences={}'.format(end - start, len(dataset)))\n",
    "    return dataset, lengths\n",
    "\n",
    "train_word_list, train_word_lengths = to_word_list(train_dataset)\n",
    "valid_word_list, valid_word_lengths = to_word_list(valid_dataset)"
   ]
  },
  {
   "cell_type": "code",
   "execution_count": 6,
   "metadata": {},
   "outputs": [
    {
     "name": "stderr",
     "output_type": "stream",
     "text": [
      "/home/steven/miniconda3/envs/dl/lib/python3.7/site-packages/gluonnlp/embedding/token_embedding.py:296: UserWarning: line 0 in data/sgns.weibo.bigram-char: skipped likely header line.\n",
      "  .format(line_num, pretrained_file_path))\n"
     ]
    },
    {
     "name": "stdout",
     "output_type": "stream",
     "text": [
      "Vocab(size=100004, unk=\"<unk>\", reserved=\"['<pad>', '<bos>', '<eos>']\")\n"
     ]
    }
   ],
   "source": [
    "train_seqs = [sample[0] for sample in train_word_list]\n",
    "counter = nlp.data.count_tokens(list(itertools.chain.from_iterable(train_seqs)))\n",
    "\n",
    "vocab = nlp.Vocab(counter, max_size=100000)\n",
    "\n",
    "# load customed pre-trained embedding\n",
    "embedding_weights = nlp.embedding.TokenEmbedding.from_file(file_path=DATA_FOLDER+WORD_EMBED)\n",
    "vocab.set_embedding(embedding_weights)\n",
    "print(vocab)"
   ]
  },
  {
   "cell_type": "code",
   "execution_count": 7,
   "metadata": {},
   "outputs": [],
   "source": [
    "def token_to_idx(x):\n",
    "    return vocab[x[0]], x[1]\n",
    "\n",
    "# A token index or a list of token indices is returned according to the vocabulary.\n",
    "with mp.Pool() as pool:\n",
    "    train_dataset = pool.map(token_to_idx, train_word_list)\n",
    "    valid_dataset = pool.map(token_to_idx, valid_word_list)"
   ]
  },
  {
   "cell_type": "code",
   "execution_count": 8,
   "metadata": {},
   "outputs": [
    {
     "name": "stdout",
     "output_type": "stream",
     "text": [
      "FixedBucketSampler:\n",
      "  sample_num=776847, batch_num=1158\n",
      "  key=[22, 35, 48, 61, 74, 87, 100, 113, 126, 139]\n",
      "  cnt=[637662, 69980, 31150, 17042, 11028, 7082, 2748, 149, 3, 3]\n",
      "  batch_size=[808, 508, 370, 291, 256, 256, 256, 256, 256, 256]\n"
     ]
    }
   ],
   "source": [
    "batch_size = 256\n",
    "bucket_num = 10\n",
    "bucket_ratio = 0.5\n",
    "\n",
    "\n",
    "def get_dataloader():\n",
    "    # Construct the DataLoader Pad data, stack label and lengths\n",
    "    batchify_fn = nlp.data.batchify.Tuple(nlp.data.batchify.Pad(axis=0), \\\n",
    "                                          nlp.data.batchify.Stack())\n",
    "\n",
    "    # in this example, we use a FixedBucketSampler,\n",
    "    # which assigns each data sample to a fixed bucket based on its length.\n",
    "    batch_sampler = nlp.data.sampler.FixedBucketSampler(\n",
    "        train_word_lengths,\n",
    "        batch_size=batch_size,\n",
    "        num_buckets=bucket_num,\n",
    "        ratio=bucket_ratio,\n",
    "        shuffle=True)\n",
    "    print(batch_sampler.stats())\n",
    "\n",
    "    # train_dataloader\n",
    "    train_dataloader = gluon.data.DataLoader(\n",
    "        dataset=train_dataset,\n",
    "        batch_sampler=batch_sampler,\n",
    "        batchify_fn=batchify_fn)\n",
    "    # valid_dataloader\n",
    "    valid_dataloader = gluon.data.DataLoader(\n",
    "        dataset=valid_dataset,\n",
    "        batch_size=batch_size,\n",
    "        shuffle=False,\n",
    "        batchify_fn=batchify_fn)\n",
    "    return train_dataloader, valid_dataloader\n",
    "\n",
    "train_dataloader, valid_dataloader = get_dataloader()"
   ]
  },
  {
   "cell_type": "code",
   "execution_count": 9,
   "metadata": {},
   "outputs": [
    {
     "name": "stdout",
     "output_type": "stream",
     "text": [
      "\n",
      "[[0.0000e+00 0.0000e+00 0.0000e+00 ... 6.9300e+03 7.3000e+01 0.0000e+00]\n",
      " [5.5000e+01 7.7600e+02 3.5800e+02 ... 0.0000e+00 0.0000e+00 0.0000e+00]\n",
      " [2.9000e+01 4.9380e+03 9.0000e+01 ... 0.0000e+00 0.0000e+00 0.0000e+00]\n",
      " ...\n",
      " [1.1000e+02 3.2000e+01 6.6000e+01 ... 0.0000e+00 0.0000e+00 0.0000e+00]\n",
      " [1.0000e+01 1.8000e+01 1.2980e+03 ... 0.0000e+00 0.0000e+00 0.0000e+00]\n",
      " [0.0000e+00 8.0114e+04 7.9825e+04 ... 0.0000e+00 0.0000e+00 0.0000e+00]]\n",
      "<NDArray 256x74 @cpu_shared(0)> \n",
      "[ 3 24 50 46 38 31 26 35 62 35 43 24 29 15 20 59 14  1 15 16 35 12 15 27\n",
      " 43 50  3 29 57 40  3  3 60  3 27 60 60 29 18 43 16  1 31  3 29 38 28 35\n",
      " 14 52 59 19 14 14 40 35 15 29 66 12 35  7 35 34 38 14 16 24  6 27 12 29\n",
      " 27  3 29 24  3 31 33 10 68 19  3 10 25 57 32 13 34 48 49  8 43 33 68  2\n",
      "  3 58 30 16 12 35 23 34 37  2 35 36 35 31 57  6 37  9  3 50 31 29 31 40\n",
      " 52 15 34  3  3  3  3  6  3 12 66  3  9 16  3  3 54 12 67 66 35  3 30 52\n",
      " 67 49 27 49 35  3  1 45 66 29 40 38 35 66  1 33 20 19 37 56 62 52 47  6\n",
      " 22 28 23 26 61  3 58 29 29 47 37 35  3 15 23 37 35 31 38 54 49 58 35 52\n",
      " 35 52 50 48  3 27  3 34 18 14 36 66  5 29 29 34 18  3 29 14 15 30 70 34\n",
      " 17 38 67  3 14 38  2 12 29 29 54 46 33 33  3 17 55 35 35 34 14 33 28 36\n",
      " 19 66 17  3 24 15  1  3 38  3 18 31 22  2 57 52]\n",
      "<NDArray 256 @cpu_shared(0)>\n"
     ]
    }
   ],
   "source": [
    "for tweet, label in train_dataloader:\n",
    "    print(tweet, label)\n",
    "    break"
   ]
  },
  {
   "cell_type": "markdown",
   "metadata": {},
   "source": [
    "## Model contruction\n",
    "Self attention layer, weighted cross entropy, and whole model"
   ]
  },
  {
   "cell_type": "code",
   "execution_count": 10,
   "metadata": {},
   "outputs": [],
   "source": [
    "class TextCNN(nn.Block):\n",
    "    def __init__(self, vocab_len, embed_size, kernel_sizes, num_channels, \\\n",
    "                 dropout, nclass, **kwargs):\n",
    "        super(TextCNN, self).__init__(**kwargs)\n",
    "        self.embedding = nn.Embedding(vocab_len, embed_size)\n",
    "        \n",
    "        self.constant_embedding = nn.Embedding(vocab_len, embed_size)\n",
    "        self.dropout = nn.Dropout(dropout)\n",
    "        self.decoder = nn.Dense(nclass)\n",
    "        self.pool = nn.GlobalMaxPool1D()\n",
    "        self.convs = nn.Sequential()  \n",
    "        for c, k in zip(num_channels, kernel_sizes):\n",
    "            self.convs.add(nn.Conv1D(c, k, activation='relu'))\n",
    "    \n",
    "    def forward(self, inputs):\n",
    "        \n",
    "        embeddings = nd.concat(\n",
    "            self.embedding(inputs), self.constant_embedding(inputs), dim=2)\n",
    "        \n",
    "        embeddings = embeddings.transpose((0, 2, 1))\n",
    "        \n",
    "        encoding = nd.concat(*[nd.flatten(\n",
    "            self.pool(conv(embeddings))) for conv in self.convs], dim=1)\n",
    "        \n",
    "        outputs = self.decoder(self.dropout(encoding))\n",
    "        return outputs"
   ]
  },
  {
   "cell_type": "code",
   "execution_count": 17,
   "metadata": {},
   "outputs": [
    {
     "name": "stdout",
     "output_type": "stream",
     "text": [
      "TextCNN(\n",
      "  (embedding): Embedding(100004 -> 300, float32)\n",
      "  (constant_embedding): Embedding(100004 -> 300, float32)\n",
      "  (dropout): Dropout(p = 0.5, axes=())\n",
      "  (decoder): Dense(None -> 72, linear)\n",
      "  (pool): GlobalMaxPool1D(size=(1,), stride=(1,), padding=(0,), ceil_mode=True)\n",
      "  (convs): Sequential(\n",
      "    (0): Conv1D(None -> 200, kernel_size=(2,), stride=(1,), Activation(relu))\n",
      "    (1): Conv1D(None -> 200, kernel_size=(3,), stride=(1,), Activation(relu))\n",
      "    (2): Conv1D(None -> 200, kernel_size=(4,), stride=(1,), Activation(relu))\n",
      "    (3): Conv1D(None -> 200, kernel_size=(5,), stride=(1,), Activation(relu))\n",
      "  )\n",
      ")\n"
     ]
    }
   ],
   "source": [
    "vocab_len = len(vocab)\n",
    "emsize = 300   # word embedding size\n",
    "nhidden = 400    # lstm hidden_dim\n",
    "nlayers = 4     # lstm layers\n",
    "natt_unit = 400     # the hidden_units of attention layer\n",
    "natt_hops = 20    # the channels of attention\n",
    "nfc = 256  # last dense layer size\n",
    "nclass = 72 # we have 72 emoji in total\n",
    "\n",
    "drop_prob = 0.5\n",
    "pool_way = 'flatten'    # # The way to handle M\n",
    "prune_p = None\n",
    "prune_q = None\n",
    "\n",
    "ctx = try_gpu()\n",
    "\n",
    "kernel_sizes, nums_channels = [2, 3, 4, 5], [200, 200, 200, 200]\n",
    "model = TextCNN(vocab_len, emsize, kernel_sizes, nums_channels, drop_prob, nclass)\n",
    "model.initialize(init.Xavier(), ctx=ctx)\n",
    "\n",
    "print(model)\n",
    "model.embedding.weight.set_data(vocab.embedding.idx_to_vec)\n",
    "model.constant_embedding.weight.set_data(vocab.embedding.idx_to_vec)\n",
    "model.constant_embedding.collect_params().setattr('grad_req', 'null')"
   ]
  },
  {
   "cell_type": "code",
   "execution_count": 21,
   "metadata": {
    "scrolled": true
   },
   "outputs": [
    {
     "name": "stdout",
     "output_type": "stream",
     "text": [
      "training on gpu(0)\n",
      "epoch 1, loss 3.0164, train acc 0.244, test acc 0.189, time 126.9 sec\n",
      "epoch 2, loss 2.9793, train acc 0.250, test acc 0.187, time 126.2 sec\n"
     ]
    }
   ],
   "source": [
    "lr, num_epochs = 0.0001, 2\n",
    "trainer = gluon.Trainer(model.collect_params(), 'adam', {'learning_rate': lr})\n",
    "loss = gluon.loss.SoftmaxCrossEntropyLoss()\n",
    "d2l.train(train_dataloader, valid_dataloader, model, loss, trainer, ctx, num_epochs)\n",
    "token = str(round(time.time()))\n",
    "model.save_parameters(\"model/textcnn\"+token)"
   ]
  },
  {
   "cell_type": "code",
   "execution_count": 21,
   "metadata": {},
   "outputs": [],
   "source": [
    "# token = str(round(time.time()))\n",
    "# model.save_parameters(\"model/model\"+token)"
   ]
  },
  {
   "cell_type": "code",
   "execution_count": 22,
   "metadata": {
    "scrolled": true
   },
   "outputs": [
    {
     "data": {
      "text/plain": [
       "200000"
      ]
     },
     "execution_count": 22,
     "metadata": {},
     "output_type": "execute_result"
    }
   ],
   "source": [
    "TEST_DATA = 'test.csv'\n",
    "predictions = []\n",
    "test_df = pd.read_csv(DATA_FOLDER+TEST_DATA, header=None, sep='\\t')\n",
    "len(test_df)"
   ]
  },
  {
   "cell_type": "code",
   "execution_count": 23,
   "metadata": {
    "scrolled": true
   },
   "outputs": [
    {
     "name": "stdout",
     "output_type": "stream",
     "text": [
      "current pred len 2000, time 4.84s\n",
      "current pred len 4000, time 4.80s\n",
      "current pred len 6000, time 4.85s\n",
      "current pred len 8000, time 4.79s\n",
      "current pred len 10000, time 4.70s\n",
      "current pred len 12000, time 4.80s\n",
      "current pred len 14000, time 4.76s\n",
      "current pred len 16000, time 4.75s\n",
      "current pred len 18000, time 4.68s\n",
      "current pred len 20000, time 4.65s\n",
      "current pred len 22000, time 4.68s\n",
      "current pred len 24000, time 4.70s\n",
      "current pred len 26000, time 4.60s\n",
      "current pred len 28000, time 4.62s\n",
      "current pred len 30000, time 4.75s\n",
      "current pred len 32000, time 4.73s\n",
      "current pred len 34000, time 4.58s\n",
      "current pred len 36000, time 4.68s\n",
      "current pred len 38000, time 4.71s\n",
      "current pred len 40000, time 4.68s\n",
      "current pred len 42000, time 4.75s\n",
      "current pred len 44000, time 4.73s\n",
      "current pred len 46000, time 4.71s\n",
      "current pred len 48000, time 4.65s\n",
      "current pred len 50000, time 4.74s\n",
      "current pred len 52000, time 4.59s\n",
      "current pred len 54000, time 4.75s\n",
      "current pred len 56000, time 4.71s\n",
      "current pred len 58000, time 4.69s\n",
      "current pred len 60000, time 4.70s\n",
      "current pred len 62000, time 4.74s\n",
      "current pred len 64000, time 4.67s\n",
      "current pred len 66000, time 4.76s\n",
      "current pred len 68000, time 4.74s\n",
      "current pred len 70000, time 4.70s\n",
      "current pred len 72000, time 4.73s\n",
      "current pred len 74000, time 4.89s\n",
      "current pred len 76000, time 4.77s\n",
      "current pred len 78000, time 4.67s\n",
      "current pred len 80000, time 4.66s\n",
      "current pred len 82000, time 4.70s\n",
      "current pred len 84000, time 4.69s\n",
      "current pred len 86000, time 4.72s\n",
      "current pred len 88000, time 4.68s\n",
      "current pred len 90000, time 4.70s\n",
      "current pred len 92000, time 4.75s\n",
      "current pred len 94000, time 4.83s\n",
      "current pred len 96000, time 4.72s\n",
      "current pred len 98000, time 4.72s\n",
      "current pred len 100000, time 4.76s\n",
      "current pred len 102000, time 4.68s\n",
      "current pred len 104000, time 4.77s\n",
      "current pred len 106000, time 4.70s\n",
      "current pred len 108000, time 4.69s\n",
      "current pred len 110000, time 4.68s\n",
      "current pred len 112000, time 4.70s\n",
      "current pred len 114000, time 4.73s\n",
      "current pred len 116000, time 4.76s\n",
      "current pred len 118000, time 4.75s\n",
      "current pred len 120000, time 4.73s\n",
      "current pred len 122000, time 4.78s\n",
      "current pred len 124000, time 4.61s\n",
      "current pred len 126000, time 4.60s\n",
      "current pred len 128000, time 4.70s\n",
      "current pred len 130000, time 4.70s\n",
      "current pred len 132000, time 4.72s\n",
      "current pred len 134000, time 4.76s\n",
      "current pred len 136000, time 4.76s\n",
      "current pred len 138000, time 4.72s\n",
      "current pred len 140000, time 4.76s\n",
      "current pred len 142000, time 4.77s\n",
      "current pred len 144000, time 4.71s\n",
      "current pred len 146000, time 4.70s\n",
      "current pred len 148000, time 4.92s\n",
      "current pred len 150000, time 4.77s\n",
      "current pred len 152000, time 4.80s\n",
      "current pred len 154000, time 4.61s\n",
      "current pred len 156000, time 4.67s\n",
      "current pred len 158000, time 4.75s\n",
      "current pred len 160000, time 4.78s\n",
      "current pred len 162000, time 4.70s\n",
      "current pred len 164000, time 4.71s\n",
      "current pred len 166000, time 4.75s\n",
      "current pred len 168000, time 4.75s\n",
      "current pred len 170000, time 4.83s\n",
      "current pred len 172000, time 4.76s\n",
      "current pred len 174000, time 4.76s\n",
      "current pred len 176000, time 4.73s\n",
      "current pred len 178000, time 4.70s\n",
      "current pred len 180000, time 4.73s\n",
      "current pred len 182000, time 4.65s\n",
      "current pred len 184000, time 4.71s\n",
      "current pred len 186000, time 4.72s\n",
      "current pred len 188000, time 4.73s\n",
      "current pred len 190000, time 4.74s\n",
      "current pred len 192000, time 4.77s\n",
      "current pred len 194000, time 4.71s\n",
      "current pred len 196000, time 4.70s\n",
      "current pred len 198000, time 4.75s\n",
      "current pred len 200000, time 4.69s\n"
     ]
    }
   ],
   "source": [
    "start = time.time()\n",
    "for _, tweet in test_df.iterrows():\n",
    "    token = vocab[seg.cut(tweet[1])]\n",
    "    if len(token)<5:\n",
    "        token += [0.]*(5-len(token))\n",
    "    inp = nd.array(token, ctx=ctx).reshape(1,-1)\n",
    "    pred = model(inp)\n",
    "    pred = nd.argmax(pred, axis=1).asscalar()\n",
    "    predictions.append(int(pred))\n",
    "    if len(predictions)%2000==0:\n",
    "        ckpt = time.time()\n",
    "        print('current pred len %d, time %.2fs' % (len(predictions), ckpt-start))\n",
    "        start = ckpt\n",
    "submit = pd.DataFrame({'Expected': predictions})\n",
    "submit.to_csv('submission.csv', sep=',', index_label='ID')"
   ]
  }
 ],
 "metadata": {
  "kernelspec": {
   "display_name": "Python 3",
   "language": "python",
   "name": "python3"
  },
  "language_info": {
   "codemirror_mode": {
    "name": "ipython",
    "version": 3
   },
   "file_extension": ".py",
   "mimetype": "text/x-python",
   "name": "python",
   "nbconvert_exporter": "python",
   "pygments_lexer": "ipython3",
   "version": "3.7.3"
  }
 },
 "nbformat": 4,
 "nbformat_minor": 2
}
