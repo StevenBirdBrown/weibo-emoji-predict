{
 "cells": [
  {
   "cell_type": "code",
   "execution_count": 1,
   "metadata": {},
   "outputs": [],
   "source": [
    "import pandas as pd\n",
    "import numpy as np\n",
    "import mxnet as mx\n",
    "from mxnet import nd, autograd, gluon, init\n",
    "from mxnet.gluon import nn, rnn\n",
    "import gluonnlp as nlp\n",
    "import pkuseg\n",
    "import multiprocessing as mp\n",
    "import time\n",
    "from d2l import try_gpu\n",
    "import itertools\n",
    "from sklearn.metrics import accuracy_score, f1_score\n",
    "import d2l\n",
    "# fixed random number seed\n",
    "np.random.seed(9102)\n",
    "mx.random.seed(9102)"
   ]
  },
  {
   "cell_type": "code",
   "execution_count": 2,
   "metadata": {},
   "outputs": [],
   "source": [
    "DATA_FOLDER = 'data/'\n",
    "TRAIN_DATA = 'train.csv'\n",
    "WORD_EMBED = 'sgns.weibo.bigram-char'\n",
    "LABEL_FILE = 'train.label'\n",
    "N_ROWS=10000\n",
    "ctx = try_gpu()\n",
    "seg = pkuseg.pkuseg(model_name='web')"
   ]
  },
  {
   "cell_type": "code",
   "execution_count": 3,
   "metadata": {},
   "outputs": [],
   "source": [
    "train_df = pd.read_csv(DATA_FOLDER+TRAIN_DATA, sep='|')"
   ]
  },
  {
   "cell_type": "code",
   "execution_count": 4,
   "metadata": {},
   "outputs": [
    {
     "data": {
      "text/plain": [
       "(776847, 86317)"
      ]
     },
     "execution_count": 4,
     "metadata": {},
     "output_type": "execute_result"
    }
   ],
   "source": [
    "dataset =[ [row[0], row[1]] for _, row in train_df.iterrows()]\n",
    "train_dataset, valid_dataset = nlp.data.train_valid_split(dataset, .1)\n",
    "len(train_dataset), len(valid_dataset)"
   ]
  },
  {
   "cell_type": "code",
   "execution_count": 5,
   "metadata": {
    "scrolled": true
   },
   "outputs": [
    {
     "name": "stdout",
     "output_type": "stream",
     "text": [
      "Done! Tokenizing Time=75.32s, #Sentences=776847\n",
      "Done! Tokenizing Time=10.19s, #Sentences=86317\n"
     ]
    }
   ],
   "source": [
    "def tokenizer(x):\n",
    "    tweet, label = x\n",
    "    if type(tweet) != str:\n",
    "        tweet = str(tweet)\n",
    "    word_list = seg.cut(tweet)\n",
    "    return word_list, label\n",
    "\n",
    "def get_length(x):\n",
    "    return float(len(x[0]))\n",
    "\n",
    "def to_word_list(dataset):\n",
    "    start = time.time()\n",
    "    with mp.Pool() as pool:\n",
    "        # Each sample is processed in an asynchronous manner.\n",
    "        dataset = gluon.data.ArrayDataset(pool.map(tokenizer, dataset))\n",
    "        lengths = gluon.data.ArrayDataset(pool.map(get_length, dataset))\n",
    "    end = time.time()\n",
    "\n",
    "    print('Done! Tokenizing Time={:.2f}s, #Sentences={}'.format(end - start, len(dataset)))\n",
    "    return dataset, lengths\n",
    "\n",
    "train_word_list, train_word_lengths = to_word_list(train_dataset)\n",
    "valid_word_list, valid_word_lengths = to_word_list(valid_dataset)"
   ]
  },
  {
   "cell_type": "code",
   "execution_count": 6,
   "metadata": {},
   "outputs": [
    {
     "name": "stderr",
     "output_type": "stream",
     "text": [
      "/home/steven/miniconda3/envs/dl/lib/python3.7/site-packages/gluonnlp/embedding/token_embedding.py:296: UserWarning: line 0 in data/sgns.weibo.bigram-char: skipped likely header line.\n",
      "  .format(line_num, pretrained_file_path))\n"
     ]
    },
    {
     "name": "stdout",
     "output_type": "stream",
     "text": [
      "Vocab(size=100004, unk=\"<unk>\", reserved=\"['<pad>', '<bos>', '<eos>']\")\n"
     ]
    }
   ],
   "source": [
    "train_seqs = [sample[0] for sample in train_word_list]\n",
    "counter = nlp.data.count_tokens(list(itertools.chain.from_iterable(train_seqs)))\n",
    "\n",
    "vocab = nlp.Vocab(counter, max_size=100000)\n",
    "\n",
    "# load customed pre-trained embedding\n",
    "embedding_weights = nlp.embedding.TokenEmbedding.from_file(file_path=DATA_FOLDER+WORD_EMBED)\n",
    "vocab.set_embedding(embedding_weights)\n",
    "print(vocab)"
   ]
  },
  {
   "cell_type": "code",
   "execution_count": 7,
   "metadata": {},
   "outputs": [],
   "source": [
    "def token_to_idx(x):\n",
    "    return vocab[x[0]], x[1]\n",
    "\n",
    "# A token index or a list of token indices is returned according to the vocabulary.\n",
    "with mp.Pool() as pool:\n",
    "    train_dataset = pool.map(token_to_idx, train_word_list)\n",
    "    valid_dataset = pool.map(token_to_idx, valid_word_list)"
   ]
  },
  {
   "cell_type": "code",
   "execution_count": 8,
   "metadata": {},
   "outputs": [
    {
     "name": "stdout",
     "output_type": "stream",
     "text": [
      "FixedBucketSampler:\n",
      "  sample_num=776847, batch_num=1158\n",
      "  key=[22, 35, 48, 61, 74, 87, 100, 113, 126, 139]\n",
      "  cnt=[637662, 69980, 31150, 17042, 11028, 7082, 2748, 149, 3, 3]\n",
      "  batch_size=[808, 508, 370, 291, 256, 256, 256, 256, 256, 256]\n"
     ]
    }
   ],
   "source": [
    "batch_size = 256\n",
    "bucket_num = 10\n",
    "bucket_ratio = 0.5\n",
    "\n",
    "\n",
    "def get_dataloader():\n",
    "    # Construct the DataLoader Pad data, stack label and lengths\n",
    "    batchify_fn = nlp.data.batchify.Tuple(nlp.data.batchify.Pad(axis=0), \\\n",
    "                                          nlp.data.batchify.Stack())\n",
    "\n",
    "    # in this example, we use a FixedBucketSampler,\n",
    "    # which assigns each data sample to a fixed bucket based on its length.\n",
    "    batch_sampler = nlp.data.sampler.FixedBucketSampler(\n",
    "        train_word_lengths,\n",
    "        batch_size=batch_size,\n",
    "        num_buckets=bucket_num,\n",
    "        ratio=bucket_ratio,\n",
    "        shuffle=True)\n",
    "    print(batch_sampler.stats())\n",
    "\n",
    "    # train_dataloader\n",
    "    train_dataloader = gluon.data.DataLoader(\n",
    "        dataset=train_dataset,\n",
    "        batch_sampler=batch_sampler,\n",
    "        batchify_fn=batchify_fn)\n",
    "    # valid_dataloader\n",
    "    valid_dataloader = gluon.data.DataLoader(\n",
    "        dataset=valid_dataset,\n",
    "        batch_size=batch_size,\n",
    "        shuffle=False,\n",
    "        batchify_fn=batchify_fn)\n",
    "    return train_dataloader, valid_dataloader\n",
    "\n",
    "train_dataloader, valid_dataloader = get_dataloader()"
   ]
  },
  {
   "cell_type": "code",
   "execution_count": 10,
   "metadata": {},
   "outputs": [
    {
     "name": "stdout",
     "output_type": "stream",
     "text": [
      "\n",
      "[[3.7000e+01 3.1490e+03 1.0100e+02 ... 0.0000e+00 0.0000e+00 0.0000e+00]\n",
      " [1.3000e+01 8.0100e+02 9.4320e+03 ... 0.0000e+00 0.0000e+00 0.0000e+00]\n",
      " [1.1071e+04 5.0000e+01 1.1030e+03 ... 0.0000e+00 0.0000e+00 0.0000e+00]\n",
      " ...\n",
      " [4.5330e+03 0.0000e+00 8.0000e+00 ... 0.0000e+00 0.0000e+00 0.0000e+00]\n",
      " [1.4000e+01 4.1000e+01 4.5000e+01 ... 0.0000e+00 0.0000e+00 0.0000e+00]\n",
      " [1.0000e+01 1.7000e+02 1.2600e+02 ... 0.0000e+00 0.0000e+00 0.0000e+00]]\n",
      "<NDArray 508x35 @cpu_shared(0)> \n",
      "[39 53  6 29 31 52 12 37 44 33 31 14 52 44 23 31 62 23 34 12 45 62 12 35\n",
      " 36 29  3 35 11 52  3 49 37  8 14 60 12  3 55  6 29 12 13 10 45 59 59 35\n",
      " 14 54 22 35 49 60 47 36 12  6 14  4 48 14 39 35  3 31 35 71 16 16 65 29\n",
      " 32  3  4 20  2 35 47 14  9 11 11 24 58 23 29 18 35 43 19 17 38  2 34 29\n",
      " 28 29 69 29 38 23 12  3 13 34 49 28 14 29 14 60 64 55  2 29 31 28 45 12\n",
      "  3 24 41 23 29 10 66 30  3  3 27 15 40 36 20 31 10 19 22 27 62 35 12 29\n",
      "  3 29 14 43  1 27 14 36  6 11 46 39 27 32  3  7 16 30  3  3 58 29 48  3\n",
      " 29 29  3 60 15 35 36 60 23 60  1 63  1 32 15  3 31 45 13 58 46  3  3 50\n",
      " 29 60 29  3  3 23 24 23 21 34 24 26 17 46 66 35 37 28 34 52 12 35  3 29\n",
      " 12  5 52 21  3 15 42 35 14  3 24 23 22 29  4  2 16 16 67 40 57 10 46 19\n",
      " 51 35 19 41  3 14 12 48  8 23 68 55 31 16 14 34 60 14 58 39 15 55  3 70\n",
      " 31 12 38  3  3 15 60 16 16 14 14  3 52 47 35 22 23 35 37 35 52 52 37 10\n",
      " 35  3  5 28  3  5 35 13 52  3  3 27 29 54  6 33 13 19 41 35 47 29 29 41\n",
      " 34 35 28 40 29 68 15 12  3 12 31 11 29  6 61 10 14  8 57 15  3 32 14 14\n",
      " 36 23 35 39 28 40 35 12 50 35 35 34 30 32 42 60 38  3 23 14 23 24  8 59\n",
      " 37 21 65 15 68 13  3 19 28 28 52 29 29 12 62 19 28 19 48  3 23 12  8 35\n",
      " 59 35 62 19  4 35  9 62 19 34 10  3 50 12 34 43  1  5 43 30 58 67 33 26\n",
      " 14 35 34  3 27 71 69 23 30 34 23 54 19 60  1 66 32 23 30 18 62  5 35 30\n",
      " 35 32 14 16 35 27  8 58 62 20 23 35 14 27 18 41 15 68 18  3  1 16 40 41\n",
      " 28 30  3 29 38 29 42 47 12 41 35 60 61 23  3 26 35 50 33 40 21 45 57 37\n",
      "  0 40 65 46 35 19 19  1 46 25 10 31 44 57 64 62 23 61 45 24 14 67 14 11\n",
      "  3 50 18 40]\n",
      "<NDArray 508 @cpu_shared(0)>\n"
     ]
    },
    {
     "ename": "TypeError",
     "evalue": "'DataLoader' object is not subscriptable",
     "output_type": "error",
     "traceback": [
      "\u001b[0;31m---------------------------------------------------------------------------\u001b[0m",
      "\u001b[0;31mTypeError\u001b[0m                                 Traceback (most recent call last)",
      "\u001b[0;32m<ipython-input-10-45a8b7dc2c8b>\u001b[0m in \u001b[0;36m<module>\u001b[0;34m\u001b[0m\n\u001b[1;32m      2\u001b[0m     \u001b[0mprint\u001b[0m\u001b[0;34m(\u001b[0m\u001b[0mtweet\u001b[0m\u001b[0;34m,\u001b[0m \u001b[0mlabel\u001b[0m\u001b[0;34m)\u001b[0m\u001b[0;34m\u001b[0m\u001b[0;34m\u001b[0m\u001b[0m\n\u001b[1;32m      3\u001b[0m     \u001b[0;32mbreak\u001b[0m\u001b[0;34m\u001b[0m\u001b[0;34m\u001b[0m\u001b[0m\n\u001b[0;32m----> 4\u001b[0;31m \u001b[0mtrain_dataloader\u001b[0m\u001b[0;34m[\u001b[0m\u001b[0;36m0\u001b[0m\u001b[0;34m]\u001b[0m\u001b[0;34m\u001b[0m\u001b[0;34m\u001b[0m\u001b[0m\n\u001b[0m",
      "\u001b[0;31mTypeError\u001b[0m: 'DataLoader' object is not subscriptable"
     ]
    }
   ],
   "source": [
    "for tweet, label in train_dataloader:\n",
    "    print(tweet, label)\n",
    "    break"
   ]
  },
  {
   "cell_type": "markdown",
   "metadata": {},
   "source": [
    "## Model contruction\n",
    "Self attention layer, weighted cross entropy, and whole model"
   ]
  },
  {
   "cell_type": "code",
   "execution_count": 12,
   "metadata": {},
   "outputs": [],
   "source": [
    "class TextCNN(nn.Block):\n",
    "    def __init__(self, vocab_len, embed_size, kernel_sizes, num_channels, \\\n",
    "                 dropout, nclass, **kwargs):\n",
    "        super(TextCNN, self).__init__(**kwargs)\n",
    "        self.embedding = nn.Embedding(vocab_len, embed_size)\n",
    "        \n",
    "        self.constant_embedding = nn.Embedding(vocab_len, embed_size)\n",
    "        self.dropout = nn.Dropout(dropout)\n",
    "        self.decoder = nn.Dense(nclass)\n",
    "        self.pool = nn.GlobalMaxPool1D()\n",
    "        self.convs = nn.Sequential()  \n",
    "        for c, k in zip(num_channels, kernel_sizes):\n",
    "            self.convs.add(nn.Conv1D(c, k, activation='relu'))\n",
    "    \n",
    "    def forward(self, inputs):\n",
    "        \n",
    "        embeddings = nd.concat(\n",
    "            self.embedding(inputs), self.constant_embedding(inputs), dim=2)\n",
    "        \n",
    "        embeddings = embeddings.transpose((0, 2, 1))\n",
    "        \n",
    "        encoding = nd.concat(*[nd.flatten(\n",
    "            self.pool(conv(embeddings))) for conv in self.convs], dim=1)\n",
    "        \n",
    "        outputs = self.decoder(self.dropout(encoding))\n",
    "        return outputs"
   ]
  },
  {
   "cell_type": "code",
   "execution_count": 13,
   "metadata": {},
   "outputs": [
    {
     "name": "stdout",
     "output_type": "stream",
     "text": [
      "TextCNN(\n",
      "  (embedding): Embedding(100004 -> 300, float32)\n",
      "  (constant_embedding): Embedding(100004 -> 300, float32)\n",
      "  (dropout): Dropout(p = 0.5, axes=())\n",
      "  (decoder): Dense(None -> 72, linear)\n",
      "  (pool): GlobalMaxPool1D(size=(1,), stride=(1,), padding=(0,), ceil_mode=True)\n",
      "  (convs): Sequential(\n",
      "    (0): Conv1D(None -> 200, kernel_size=(2,), stride=(1,), Activation(relu))\n",
      "    (1): Conv1D(None -> 200, kernel_size=(3,), stride=(1,), Activation(relu))\n",
      "    (2): Conv1D(None -> 200, kernel_size=(4,), stride=(1,), Activation(relu))\n",
      "    (3): Conv1D(None -> 200, kernel_size=(5,), stride=(1,), Activation(relu))\n",
      "  )\n",
      ")\n"
     ]
    }
   ],
   "source": [
    "vocab_len = len(vocab)\n",
    "emsize = 300   # word embedding size\n",
    "nhidden = 400    # lstm hidden_dim\n",
    "nlayers = 4     # lstm layers\n",
    "natt_unit = 400     # the hidden_units of attention layer\n",
    "natt_hops = 20    # the channels of attention\n",
    "nfc = 256  # last dense layer size\n",
    "nclass = 72 # we have 72 emoji in total\n",
    "\n",
    "drop_prob = 0.5\n",
    "pool_way = 'flatten'    # # The way to handle M\n",
    "prune_p = None\n",
    "prune_q = None\n",
    "\n",
    "ctx = try_gpu()\n",
    "\n",
    "kernel_sizes, nums_channels = [2, 3, 4, 5], [200, 200, 200, 200]\n",
    "model = TextCNN(vocab_len, emsize, kernel_sizes, nums_channels, drop_prob, nclass)\n",
    "model.initialize(init.Xavier(), ctx=ctx)\n",
    "\n",
    "print(model)\n",
    "model.embedding.weight.set_data(vocab.embedding.idx_to_vec)\n",
    "model.constant_embedding.weight.set_data(vocab.embedding.idx_to_vec)\n",
    "model.constant_embedding.collect_params().setattr('grad_req', 'null')"
   ]
  },
  {
   "cell_type": "code",
   "execution_count": 20,
   "metadata": {
    "scrolled": true
   },
   "outputs": [
    {
     "name": "stdout",
     "output_type": "stream",
     "text": [
      "training on gpu(0)\n",
      "epoch 1, loss 3.3426, train acc 0.187, test acc 0.205, time 47.3 sec\n",
      "epoch 2, loss 3.3065, train acc 0.192, test acc 0.210, time 48.9 sec\n"
     ]
    }
   ],
   "source": [
    "lr, num_epochs = 0.0001, 2\n",
    "model.load_parameters(\"model/textcnn1560254639\")\n",
    "trainer = gluon.Trainer(model.collect_params(), 'adam', {'learning_rate': lr})\n",
    "loss = gluon.loss.SoftmaxCrossEntropyLoss()\n",
    "d2l.train(valid_dataloader, valid_dataloader, model, loss, trainer, ctx, num_epochs)\n",
    "token = str(round(time.time()))\n",
    "model.save_parameters(\"model/textcnn\"+token)"
   ]
  },
  {
   "cell_type": "code",
   "execution_count": 21,
   "metadata": {},
   "outputs": [],
   "source": [
    "# token = str(round(time.time()))\n",
    "# model.save_parameters(\"model/model\"+token)"
   ]
  },
  {
   "cell_type": "code",
   "execution_count": 21,
   "metadata": {
    "scrolled": true
   },
   "outputs": [
    {
     "data": {
      "text/plain": [
       "200000"
      ]
     },
     "execution_count": 21,
     "metadata": {},
     "output_type": "execute_result"
    }
   ],
   "source": [
    "TEST_DATA = 'test.csv'\n",
    "predictions = []\n",
    "test_df = pd.read_csv(DATA_FOLDER+TEST_DATA, header=None, sep='\\t')\n",
    "len(test_df)"
   ]
  },
  {
   "cell_type": "code",
   "execution_count": 22,
   "metadata": {
    "scrolled": true
   },
   "outputs": [
    {
     "name": "stdout",
     "output_type": "stream",
     "text": [
      "current pred len 2000, time 4.71s\n",
      "current pred len 4000, time 4.62s\n",
      "current pred len 6000, time 4.69s\n",
      "current pred len 8000, time 4.69s\n",
      "current pred len 10000, time 4.50s\n",
      "current pred len 12000, time 4.59s\n",
      "current pred len 14000, time 4.43s\n",
      "current pred len 16000, time 4.69s\n",
      "current pred len 18000, time 4.45s\n",
      "current pred len 20000, time 4.54s\n",
      "current pred len 22000, time 4.52s\n",
      "current pred len 24000, time 4.45s\n",
      "current pred len 26000, time 4.46s\n",
      "current pred len 28000, time 4.52s\n",
      "current pred len 30000, time 4.43s\n",
      "current pred len 32000, time 4.55s\n",
      "current pred len 34000, time 4.38s\n",
      "current pred len 36000, time 4.63s\n",
      "current pred len 38000, time 4.66s\n",
      "current pred len 40000, time 4.57s\n",
      "current pred len 42000, time 4.59s\n",
      "current pred len 44000, time 4.55s\n",
      "current pred len 46000, time 4.50s\n",
      "current pred len 48000, time 4.73s\n",
      "current pred len 50000, time 4.50s\n",
      "current pred len 52000, time 4.48s\n",
      "current pred len 54000, time 4.37s\n",
      "current pred len 56000, time 4.35s\n",
      "current pred len 58000, time 4.46s\n",
      "current pred len 60000, time 4.66s\n",
      "current pred len 62000, time 4.45s\n",
      "current pred len 64000, time 4.38s\n",
      "current pred len 66000, time 4.41s\n",
      "current pred len 68000, time 4.32s\n",
      "current pred len 70000, time 4.45s\n",
      "current pred len 72000, time 4.39s\n",
      "current pred len 74000, time 4.39s\n",
      "current pred len 76000, time 4.51s\n",
      "current pred len 78000, time 4.51s\n",
      "current pred len 80000, time 4.61s\n",
      "current pred len 82000, time 4.72s\n",
      "current pred len 84000, time 4.61s\n",
      "current pred len 86000, time 4.59s\n",
      "current pred len 88000, time 4.43s\n",
      "current pred len 90000, time 4.45s\n",
      "current pred len 92000, time 4.32s\n",
      "current pred len 94000, time 4.45s\n",
      "current pred len 96000, time 4.42s\n",
      "current pred len 98000, time 4.43s\n",
      "current pred len 100000, time 4.38s\n",
      "current pred len 102000, time 4.40s\n",
      "current pred len 104000, time 4.45s\n",
      "current pred len 106000, time 4.43s\n",
      "current pred len 108000, time 4.57s\n",
      "current pred len 110000, time 4.71s\n",
      "current pred len 112000, time 4.54s\n",
      "current pred len 114000, time 4.51s\n",
      "current pred len 116000, time 4.37s\n",
      "current pred len 118000, time 4.30s\n",
      "current pred len 120000, time 4.42s\n",
      "current pred len 122000, time 4.42s\n",
      "current pred len 124000, time 4.33s\n",
      "current pred len 126000, time 4.27s\n",
      "current pred len 128000, time 4.38s\n",
      "current pred len 130000, time 4.42s\n",
      "current pred len 132000, time 4.47s\n",
      "current pred len 134000, time 4.37s\n",
      "current pred len 136000, time 4.43s\n",
      "current pred len 138000, time 4.41s\n",
      "current pred len 140000, time 4.38s\n",
      "current pred len 142000, time 4.39s\n",
      "current pred len 144000, time 4.43s\n",
      "current pred len 146000, time 4.42s\n",
      "current pred len 148000, time 4.29s\n",
      "current pred len 150000, time 4.31s\n",
      "current pred len 152000, time 4.44s\n",
      "current pred len 154000, time 4.34s\n",
      "current pred len 156000, time 4.32s\n",
      "current pred len 158000, time 4.40s\n",
      "current pred len 160000, time 4.41s\n",
      "current pred len 162000, time 4.41s\n",
      "current pred len 164000, time 4.37s\n",
      "current pred len 166000, time 4.45s\n",
      "current pred len 168000, time 4.42s\n",
      "current pred len 170000, time 4.36s\n",
      "current pred len 172000, time 4.48s\n",
      "current pred len 174000, time 4.37s\n",
      "current pred len 176000, time 4.28s\n",
      "current pred len 178000, time 4.41s\n",
      "current pred len 180000, time 4.39s\n",
      "current pred len 182000, time 4.45s\n",
      "current pred len 184000, time 4.47s\n",
      "current pred len 186000, time 4.44s\n",
      "current pred len 188000, time 4.40s\n",
      "current pred len 190000, time 4.46s\n",
      "current pred len 192000, time 4.37s\n",
      "current pred len 194000, time 4.34s\n",
      "current pred len 196000, time 4.43s\n",
      "current pred len 198000, time 4.28s\n",
      "current pred len 200000, time 4.35s\n"
     ]
    }
   ],
   "source": [
    "start = time.time()\n",
    "for _, tweet in test_df.iterrows():\n",
    "    token = vocab[seg.cut(tweet[1])]\n",
    "    if len(token)<5:\n",
    "        token += [0.]*(5-len(token))\n",
    "    inp = nd.array(token, ctx=ctx).reshape(1,-1)\n",
    "    pred = model(inp)\n",
    "    pred = nd.argmax(pred, axis=1).asscalar()\n",
    "    predictions.append(int(pred))\n",
    "    if len(predictions)%2000==0:\n",
    "        ckpt = time.time()\n",
    "        print('current pred len %d, time %.2fs' % (len(predictions), ckpt-start))\n",
    "        start = ckpt\n",
    "submit = pd.DataFrame({'Expected': predictions})\n",
    "submit.to_csv('submission.csv', sep=',', index_label='ID')"
   ]
  }
 ],
 "metadata": {
  "kernelspec": {
   "display_name": "Python 3",
   "language": "python",
   "name": "python3"
  },
  "language_info": {
   "codemirror_mode": {
    "name": "ipython",
    "version": 3
   },
   "file_extension": ".py",
   "mimetype": "text/x-python",
   "name": "python",
   "nbconvert_exporter": "python",
   "pygments_lexer": "ipython3",
   "version": "3.7.3"
  }
 },
 "nbformat": 4,
 "nbformat_minor": 2
}
