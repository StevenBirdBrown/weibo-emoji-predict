{
 "cells": [
  {
   "cell_type": "markdown",
   "metadata": {},
   "source": [
    "## Emoji prediction for weibo tweets\n",
    "This is the final project for Nanjing University Data Mining class in spring 2019"
   ]
  },
  {
   "cell_type": "code",
   "execution_count": 22,
   "metadata": {},
   "outputs": [],
   "source": [
    "import pandas as pd"
   ]
  },
  {
   "cell_type": "markdown",
   "metadata": {},
   "source": [
    "Load the raw weibo tweets (train.text) and preprocessed label (train.label). Save them into two lists respectively."
   ]
  },
  {
   "cell_type": "code",
   "execution_count": 5,
   "metadata": {},
   "outputs": [],
   "source": [
    "DATA_FOLDER='data/'\n",
    "TRAIN_TEXT='train.text'\n",
    "TRAIN_LABEL='train.label'\n",
    "N_ROWS=10\n",
    "text_list = []\n",
    "label_list = []\n",
    "with open(DATA_FOLDER+TRAIN_TEXT, 'r') as tweets, open(DATA_FOLDER+TRAIN_LABEL) as labels:\n",
    "    for tweet in tweets:\n",
    "        text_list.append(tweet[:-2])\n",
    "    for label in labels:\n",
    "        label_list.append(label[-2])\n",
    "    assert(len(text_list)==len(label_list))"
   ]
  },
  {
   "cell_type": "markdown",
   "metadata": {},
   "source": [
    "Save it to a dataframe and csv file for future use. Use '|' as a delimeter to minimize the chance of mistaking a punctuation in tweet as one."
   ]
  },
  {
   "cell_type": "code",
   "execution_count": 11,
   "metadata": {},
   "outputs": [],
   "source": [
    "train_df = pd.DataFrame({'tweet':text_list, 'label':label_list})\n",
    "train_df.to_csv(DATA_FOLDER+'train.csv', index=False, sep='|')"
   ]
  }
 ],
 "metadata": {
  "kernelspec": {
   "display_name": "Python 3",
   "language": "python",
   "name": "python3"
  },
  "language_info": {
   "codemirror_mode": {
    "name": "ipython",
    "version": 3
   },
   "file_extension": ".py",
   "mimetype": "text/x-python",
   "name": "python",
   "nbconvert_exporter": "python",
   "pygments_lexer": "ipython3",
   "version": "3.7.3"
  }
 },
 "nbformat": 4,
 "nbformat_minor": 2
}
